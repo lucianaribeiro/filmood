{
  "nbformat": 4,
  "nbformat_minor": 0,
  "metadata": {
    "colab": {
      "name": "RNN.ipynb",
      "provenance": []
    },
    "kernelspec": {
      "name": "python3",
      "display_name": "Python 3"
    },
    "accelerator": "GPU"
  },
  "cells": [
    {
      "cell_type": "code",
      "metadata": {
        "id": "YW8UOawmzSdt",
        "colab_type": "code",
        "outputId": "bfb5b89e-294e-41fb-db3b-d35c995c7f16",
        "colab": {
          "base_uri": "https://localhost:8080/",
          "height": 34
        }
      },
      "source": [
        "# Importing the libraries\n",
        "from keras.datasets import imdb\n",
        "from keras.preprocessing import sequence\n",
        "from keras import Sequential\n",
        "from keras.layers import Embedding, LSTM, Dense, Dropout\n"
      ],
      "execution_count": 1,
      "outputs": [
        {
          "output_type": "stream",
          "text": [
            "Using TensorFlow backend.\n"
          ],
          "name": "stderr"
        }
      ]
    },
    {
      "cell_type": "code",
      "metadata": {
        "id": "hoAVD_aYzUmt",
        "colab_type": "code",
        "colab": {}
      },
      "source": [
        "# Disable tensor flow warnings for better view\n",
        "from tensorflow.python.util import deprecation\n",
        "deprecation._PRINT_DEPRECATION_WARNINGS = False\n",
        " \n",
        "# Loading dataset from IMDB\n",
        "vocabulary_size = 10000\n",
        "(X_train, y_train), (X_test, y_test) = imdb.load_data(num_words = vocabulary_size)"
      ],
      "execution_count": 0,
      "outputs": []
    },
    {
      "cell_type": "code",
      "metadata": {
        "id": "4a0eMw6z5mRW",
        "colab_type": "code",
        "outputId": "feff4044-3097-4a37-f5df-d781a63f8415",
        "colab": {
          "base_uri": "https://localhost:8080/",
          "height": 173
        }
      },
      "source": [
        "# Inspect a sample review and its label\n",
        "print('Review')\n",
        "print(X_train[6])\n",
        "print('Label')\n",
        "print(y_train[6])\n",
        "\n",
        "# Review back to the original words\n",
        "word2id = imdb.get_word_index()\n",
        "id2word = {i: word for word, i in word2id.items()}\n",
        "print('Review with words')\n",
        "print([id2word.get(i, ' ') for i in X_train[6]])\n",
        "print('Label')\n",
        "print(y_train[6])"
      ],
      "execution_count": 3,
      "outputs": [
        {
          "output_type": "stream",
          "text": [
            "Review\n",
            "[1, 6740, 365, 1234, 5, 1156, 354, 11, 14, 5327, 6638, 7, 1016, 2, 5940, 356, 44, 4, 1349, 500, 746, 5, 200, 4, 4132, 11, 2, 9363, 1117, 1831, 7485, 5, 4831, 26, 6, 2, 4183, 17, 369, 37, 215, 1345, 143, 2, 5, 1838, 8, 1974, 15, 36, 119, 257, 85, 52, 486, 9, 6, 2, 8564, 63, 271, 6, 196, 96, 949, 4121, 4, 2, 7, 4, 2212, 2436, 819, 63, 47, 77, 7175, 180, 6, 227, 11, 94, 2494, 2, 13, 423, 4, 168, 7, 4, 22, 5, 89, 665, 71, 270, 56, 5, 13, 197, 12, 161, 5390, 99, 76, 23, 2, 7, 419, 665, 40, 91, 85, 108, 7, 4, 2084, 5, 4773, 81, 55, 52, 1901]\n",
            "Label\n",
            "1\n",
            "Review with words\n",
            "['the', 'boiled', 'full', 'involving', 'to', 'impressive', 'boring', 'this', 'as', 'murdering', 'naschy', 'br', 'villain', 'and', 'suggestion', 'need', 'has', 'of', 'costumes', 'b', 'message', 'to', 'may', 'of', 'props', 'this', 'and', 'concentrates', 'concept', 'issue', 'skeptical', 'to', \"god's\", 'he', 'is', 'and', 'unfolds', 'movie', 'women', 'like', \"isn't\", 'surely', \"i'm\", 'and', 'to', 'toward', 'in', \"here's\", 'for', 'from', 'did', 'having', 'because', 'very', 'quality', 'it', 'is', 'and', 'starship', 'really', 'book', 'is', 'both', 'too', 'worked', 'carl', 'of', 'and', 'br', 'of', 'reviewer', 'closer', 'figure', 'really', 'there', 'will', 'originals', 'things', 'is', 'far', 'this', 'make', 'mistakes', 'and', 'was', \"couldn't\", 'of', 'few', 'br', 'of', 'you', 'to', \"don't\", 'female', 'than', 'place', 'she', 'to', 'was', 'between', 'that', 'nothing', 'dose', 'movies', 'get', 'are', 'and', 'br', 'yes', 'female', 'just', 'its', 'because', 'many', 'br', 'of', 'overly', 'to', 'descent', 'people', 'time', 'very', 'bland']\n",
            "Label\n",
            "1\n"
          ],
          "name": "stdout"
        }
      ]
    },
    {
      "cell_type": "code",
      "metadata": {
        "id": "hNktZY0fzioo",
        "colab_type": "code",
        "colab": {}
      },
      "source": [
        "# Ensure that all sequences in a list have the same length\n",
        "X_train = sequence.pad_sequences(X_train, maxlen=500)\n",
        "X_test = sequence.pad_sequences(X_test, maxlen=500)"
      ],
      "execution_count": 0,
      "outputs": []
    },
    {
      "cell_type": "code",
      "metadata": {
        "id": "N1G58eqNzlOU",
        "colab_type": "code",
        "outputId": "36368845-a776-4e52-a6c5-fc7980989c1a",
        "colab": {
          "base_uri": "https://localhost:8080/",
          "height": 955
        }
      },
      "source": [
        "# Initialising the RNN\n",
        "regressor=Sequential()\n",
        "\n",
        "# Adding a first Embedding layer and some Dropout regularization\n",
        "regressor.add(Embedding(vocabulary_size, 32, input_length=500))\n",
        "regressor.add(Dropout(0.2))\n",
        "\n",
        "# Adding a second LSTM layer and some Dropout regularization\n",
        "regressor.add(LSTM(units = 50, return_sequences = True))\n",
        "regressor.add(Dropout(0.2))\n",
        "\n",
        "# Adding a third LSTM layer and some Dropout regularization\n",
        "regressor.add(LSTM(units = 50, return_sequences = True))\n",
        "regressor.add(Dropout(0.2))\n",
        "\n",
        "# Adding a fourth LSTM layer and some Dropout regularization\n",
        "regressor.add(LSTM(units = 50))\n",
        "regressor.add(Dropout(0.2))\n",
        "\n",
        "# Adding the output layer\n",
        "regressor.add(Dense(1, activation='sigmoid'))\n",
        "\n",
        "# Compiling the RNN\n",
        "regressor.compile(loss='binary_crossentropy', \n",
        "             optimizer='adam', \n",
        "             metrics=['accuracy'])\n",
        "\n",
        "\n",
        "X_valid, y_valid = X_train[:64], y_train[:64]\n",
        "X_train2, y_train2 = X_train[64:], y_train[64:]\n",
        "regressor.fit(X_train2, y_train2, validation_data=(X_valid, y_valid), batch_size=64, epochs=25)\n"
      ],
      "execution_count": 5,
      "outputs": [
        {
          "output_type": "stream",
          "text": [
            "/home/indiara/.local/lib/python3.5/site-packages/tensorflow_core/python/framework/indexed_slices.py:424: UserWarning: Converting sparse IndexedSlices to a dense Tensor of unknown shape. This may consume a large amount of memory.\n",
            "  \"Converting sparse IndexedSlices to a dense Tensor of unknown shape. \"\n"
          ],
          "name": "stderr"
        },
        {
          "output_type": "stream",
          "text": [
            "Train on 24936 samples, validate on 64 samples\n",
            "Epoch 1/25\n",
            "24936/24936 [==============================] - 268s 11ms/step - loss: 0.4433 - accuracy: 0.7935 - val_loss: 0.2289 - val_accuracy: 0.9219\n",
            "Epoch 2/25\n",
            "24936/24936 [==============================] - 264s 11ms/step - loss: 0.2667 - accuracy: 0.8975 - val_loss: 0.2502 - val_accuracy: 0.8750\n",
            "Epoch 3/25\n",
            "24936/24936 [==============================] - 265s 11ms/step - loss: 0.2105 - accuracy: 0.9225 - val_loss: 0.2907 - val_accuracy: 0.8594\n",
            "Epoch 4/25\n",
            "24936/24936 [==============================] - 265s 11ms/step - loss: 0.1646 - accuracy: 0.9421 - val_loss: 0.4333 - val_accuracy: 0.8438\n",
            "Epoch 5/25\n",
            "24936/24936 [==============================] - 266s 11ms/step - loss: 0.1403 - accuracy: 0.9508 - val_loss: 0.3258 - val_accuracy: 0.8906\n",
            "Epoch 6/25\n",
            "24936/24936 [==============================] - 266s 11ms/step - loss: 0.1087 - accuracy: 0.9628 - val_loss: 0.3202 - val_accuracy: 0.9062\n",
            "Epoch 7/25\n",
            "24936/24936 [==============================] - 265s 11ms/step - loss: 0.0880 - accuracy: 0.9710 - val_loss: 0.2972 - val_accuracy: 0.8906\n",
            "Epoch 8/25\n",
            "24936/24936 [==============================] - 267s 11ms/step - loss: 0.0980 - accuracy: 0.9670 - val_loss: 0.4935 - val_accuracy: 0.8750\n",
            "Epoch 9/25\n",
            "24936/24936 [==============================] - 267s 11ms/step - loss: 0.0704 - accuracy: 0.9773 - val_loss: 0.4040 - val_accuracy: 0.8906\n",
            "Epoch 10/25\n",
            "24936/24936 [==============================] - 267s 11ms/step - loss: 0.0583 - accuracy: 0.9811 - val_loss: 0.1829 - val_accuracy: 0.9219\n",
            "Epoch 11/25\n",
            "24936/24936 [==============================] - 268s 11ms/step - loss: 0.0560 - accuracy: 0.9825 - val_loss: 0.2790 - val_accuracy: 0.9219\n",
            "Epoch 12/25\n",
            "24936/24936 [==============================] - 268s 11ms/step - loss: 0.0462 - accuracy: 0.9862 - val_loss: 0.4238 - val_accuracy: 0.8906\n",
            "Epoch 13/25\n",
            "24936/24936 [==============================] - 268s 11ms/step - loss: 0.0488 - accuracy: 0.9849 - val_loss: 0.5104 - val_accuracy: 0.8906\n",
            "Epoch 14/25\n",
            "24936/24936 [==============================] - 268s 11ms/step - loss: 0.0616 - accuracy: 0.9797 - val_loss: 0.3625 - val_accuracy: 0.8906\n",
            "Epoch 15/25\n",
            "24936/24936 [==============================] - 269s 11ms/step - loss: 0.0495 - accuracy: 0.9843 - val_loss: 0.4035 - val_accuracy: 0.8906\n",
            "Epoch 16/25\n",
            "24936/24936 [==============================] - 267s 11ms/step - loss: 0.0313 - accuracy: 0.9909 - val_loss: 0.4742 - val_accuracy: 0.9062\n",
            "Epoch 17/25\n",
            "24936/24936 [==============================] - 268s 11ms/step - loss: 0.0332 - accuracy: 0.9895 - val_loss: 0.3728 - val_accuracy: 0.9062\n",
            "Epoch 18/25\n",
            "24936/24936 [==============================] - 268s 11ms/step - loss: 0.0296 - accuracy: 0.9910 - val_loss: 0.3283 - val_accuracy: 0.8906\n",
            "Epoch 19/25\n",
            "24936/24936 [==============================] - 268s 11ms/step - loss: 0.0474 - accuracy: 0.9838 - val_loss: 0.3602 - val_accuracy: 0.9219\n",
            "Epoch 20/25\n",
            "24936/24936 [==============================] - 267s 11ms/step - loss: 0.0232 - accuracy: 0.9929 - val_loss: 0.4887 - val_accuracy: 0.9062\n",
            "Epoch 21/25\n",
            "24936/24936 [==============================] - 269s 11ms/step - loss: 0.0191 - accuracy: 0.9947 - val_loss: 0.3430 - val_accuracy: 0.9062\n",
            "Epoch 22/25\n",
            "24936/24936 [==============================] - 268s 11ms/step - loss: 0.0241 - accuracy: 0.9929 - val_loss: 0.3634 - val_accuracy: 0.9219\n",
            "Epoch 23/25\n",
            "24936/24936 [==============================] - 269s 11ms/step - loss: 0.0203 - accuracy: 0.9939 - val_loss: 0.4052 - val_accuracy: 0.9219\n",
            "Epoch 24/25\n",
            "24936/24936 [==============================] - 268s 11ms/step - loss: 0.0290 - accuracy: 0.9910 - val_loss: 0.5664 - val_accuracy: 0.9062\n",
            "Epoch 25/25\n",
            "24936/24936 [==============================] - 267s 11ms/step - loss: 0.0258 - accuracy: 0.9924 - val_loss: 0.4951 - val_accuracy: 0.9062\n"
          ],
          "name": "stdout"
        },
        {
          "output_type": "execute_result",
          "data": {
            "text/plain": [
              "<keras.callbacks.callbacks.History at 0x7f6a2054dc50>"
            ]
          },
          "metadata": {
            "tags": []
          },
          "execution_count": 5
        }
      ]
    }
  ]
}